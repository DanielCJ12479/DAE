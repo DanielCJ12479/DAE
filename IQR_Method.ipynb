import pandas as pd

def remove_outliers_iqr(df, column):
  Q1 = df[column].quantile(0.25)   # kuartil pertama
      Q3 = df[column].quantile(0.75)   # kuartil ketiga
      IQR = Q3 - Q1
      
      lower_bound = Q1 - 1.5 * IQR
      upper_bound = Q3 + 1.5 * IQR
      
      df_clean = df[(df[column] >= lower_bound) & (df[column] <= upper_bound)]
      
      return df_clean

data = {
    "Employee_ID": [1, 2, 3, 4, 5, 6],
    "Stress_Score": [5, 7, 8, 6, 100, 9]  # nilai 100 ini outlier
}
df = pd.DataFrame(data)

print("Data Asli:")
print(df)

df_clean = remove_outliers_iqr(df, "Stress_Score")

print("\nData Setelah Outlier Dihapus (IQR method):")
print(df_clean)
